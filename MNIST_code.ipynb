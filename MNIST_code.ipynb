{
  "nbformat": 4,
  "nbformat_minor": 0,
  "metadata": {
    "colab": {
      "provenance": [],
      "include_colab_link": true
    },
    "kernelspec": {
      "name": "python3",
      "display_name": "Python 3"
    },
    "language_info": {
      "name": "python"
    }
  },
  "cells": [
    {
      "cell_type": "markdown",
      "metadata": {
        "id": "view-in-github",
        "colab_type": "text"
      },
      "source": [
        "<a href=\"https://colab.research.google.com/github/Allen-John-Manoj/Fashion-MNIST-CNN/blob/main/MNIST_code.ipynb\" target=\"_parent\"><img src=\"https://colab.research.google.com/assets/colab-badge.svg\" alt=\"Open In Colab\"/></a>"
      ]
    },
    {
      "cell_type": "code",
      "source": [
        "pip install tensorflow"
      ],
      "metadata": {
        "id": "m-u8n9BdekuK"
      },
      "execution_count": null,
      "outputs": []
    },
    {
      "cell_type": "code",
      "source": [
        "#TF_ENABLE_ONEDNN_OPTS=1\n",
        "#pip install intel-tensorflow"
      ],
      "metadata": {
        "id": "Y8oWzzrZVyN7"
      },
      "execution_count": null,
      "outputs": []
    },
    {
      "cell_type": "markdown",
      "source": [
        "The above can only be run in Intel openAPI Jupyter notebook. Recommended for faster and better results"
      ],
      "metadata": {
        "id": "J1KtajH8V3zU"
      }
    },
    {
      "cell_type": "code",
      "source": [
        "import tensorflow as tf\n",
        "\n",
        "from tensorflow.keras.layers import Conv2D, MaxPooling2D, Dense, Flatten, Dropout, BatchNormalization\n",
        "from tensorflow.keras.optimizers import Adam\n",
        "from tensorflow.keras.regularizers import l2\n",
        "\n",
        "import numpy as num\n",
        "import matplotlib.pyplot as plt\n",
        "from sklearn.metrics import confusion_matrix\n",
        "from sklearn.metrics import classification_report\n",
        "\n",
        "from sklearn.utils.multiclass import unique_labels"
      ],
      "metadata": {
        "id": "BQs2NmEuWDj3"
      },
      "execution_count": null,
      "outputs": []
    },
    {
      "cell_type": "code",
      "source": [
        "(train, trainlabel), (test, testlabel) = tf.keras.datasets.fashion_mnist.load_data()\n",
        "\n",
        "train = train.astype('float32') / 255.0\n",
        "test = test.astype('float32') / 255.0\n",
        "\n",
        "train = num.expand_dims(train, -1)\n",
        "test = num.expand_dims(test, -1)\n",
        "\n",
        "class_names = ['T-shirt/top', 'Trouser', 'Pullover', 'Dress', 'Coat',\n",
        "               'Sandal', 'Shirt', 'Sneaker', 'Bag', 'Ankle boot']"
      ],
      "metadata": {
        "id": "fkuMSrSWWHqT"
      },
      "execution_count": null,
      "outputs": []
    },
    {
      "cell_type": "code",
      "source": [
        "cnn = tf.keras.models.Sequential()\n",
        "\n",
        "cnn.add(Conv2D(\n",
        "           filters=64,\n",
        "            kernel_size=(5, 5),\n",
        "           padding='same',\n",
        "            activation='relu',\n",
        "            kernel_regularizer=l2(0.01),\n",
        "           input_shape=(28, 28, 1)))\n",
        "\n",
        "cnn.add(MaxPooling2D( pool_size=(2, 2), strides=(2, 2)))\n",
        "\n",
        "cnn.add(BatchNormalization(momentum=0.9))\n",
        "\n",
        "cnn.add(Conv2D(\n",
        "           filters=128,\n",
        "            kernel_size=(3, 3),\n",
        "            padding='same',\n",
        "            activation='relu',\n",
        "            input_shape=(28, 28, 1)))\n",
        "\n",
        "cnn.add(MaxPooling2D( pool_size=(2, 2)))\n",
        "\n",
        "#cnn.add(BatchNormalization(momentum=0.9))\n",
        "\n",
        "cnn.add(Conv2D(\n",
        "           filters=256,\n",
        "            kernel_size=(2, 2),\n",
        "            padding='same',\n",
        "            activation='relu',\n",
        "            input_shape=(28, 28, 1)))\n",
        "\n",
        "cnn.add(MaxPooling2D( pool_size=(2, 2)))\n",
        "\n",
        "\n",
        "cnn.add(Dropout( rate=0.25 ))\n",
        "\n",
        "cnn.add(Flatten())\n",
        "\n",
        "cnn.add(Dense(\n",
        "        units=256, activation='relu'))\n",
        "\n",
        "cnn.add(Dense(\n",
        "       units=100, activation='relu'))\n",
        "\n",
        "cnn.add(Dense(\n",
        "        units=10, activation='softmax'))"
      ],
      "metadata": {
        "id": "fWpWKfn4WKRs"
      },
      "execution_count": null,
      "outputs": []
    },
    {
      "cell_type": "code",
      "source": [
        "cnn.compile(optimizer=Adam(),\n",
        "              loss='sparse_categorical_crossentropy',\n",
        "              metrics=['sparse_categorical_accuracy'])\n",
        "\n",
        "cnn.summary()"
      ],
      "metadata": {
        "id": "CKbOJRfWWOHF"
      },
      "execution_count": null,
      "outputs": []
    },
    {
      "cell_type": "code",
      "source": [
        "history = cnn.fit(\n",
        "            train, trainlabel,\n",
        "            #steps_per_epoch = 200,\n",
        "            batch_size=356,\n",
        "            epochs=10,\n",
        "            validation_split=0.2)\n",
        "\n",
        "test_loss, test_accuracy = cnn.evaluate(test, testlabel, verbose=0)\n",
        "\n",
        "print(f'\\nTest loss: {test_loss:.4f}')\n",
        "print(f'Test accuracy: {test_accuracy:.4f}')"
      ],
      "metadata": {
        "id": "P0nxfM6UWRaC"
      },
      "execution_count": null,
      "outputs": []
    },
    {
      "cell_type": "code",
      "source": [
        "predictions = cnn.predict(test)\n",
        "print(f\"Accuracy: {num.max(predictions)*100}\")\n",
        "pred = num.argmax(predictions, axis=1)\n",
        "cm = confusion_matrix(testlabel, pred)\n",
        "classes = unique_labels(testlabel, pred)\n",
        "\n",
        "plt.imshow(cm, interpolation='nearest', cmap=plt.cm.Greens)\n",
        "plt.title('Confusion Matrix')\n",
        "plt.colorbar()\n",
        "\n",
        "report = classification_report(testlabel, pred)\n",
        "print(report)\n",
        "\n",
        "tick_marks = num.arange(len(classes))\n",
        "plt.xticks(tick_marks, classes)\n",
        "plt.yticks(tick_marks, classes)\n",
        "\n",
        "thresh = cm.max() / 2.\n",
        "for i in range(cm.shape[0]):\n",
        "    for j in range(cm.shape[1]):\n",
        "        plt.text(j, i, format(cm[i, j], 'd'),\n",
        "                 horizontalalignment=\"center\",\n",
        "                 color=\"white\" if cm[i, j] > thresh else \"black\")\n",
        "\n",
        "plt.xlabel('Predicted label')\n",
        "plt.ylabel('True label')\n",
        "plt.tight_layout()\n",
        "plt.show()"
      ],
      "metadata": {
        "id": "-bwaxHHKXkVg"
      },
      "execution_count": null,
      "outputs": []
    },
    {
      "cell_type": "code",
      "source": [
        "plt.plot(history.history['sparse_categorical_accuracy'])\n",
        "plt.plot(history.history['val_sparse_categorical_accuracy'])\n",
        "plt.title('Model Accuracy')\n",
        "plt.ylabel('Accuracy')\n",
        "plt.xlabel('epoch')\n",
        "plt.legend(['train', 'val'], loc='upper left')\n",
        "plt.show()"
      ],
      "metadata": {
        "id": "fYVPfRZGYKGL"
      },
      "execution_count": null,
      "outputs": []
    },
    {
      "cell_type": "code",
      "source": [
        "plt.plot(history.history['loss'])\n",
        "plt.plot(history.history['val_loss'])\n",
        "plt.title('Model Accuracy')\n",
        "plt.ylabel('loss')\n",
        "plt.xlabel('epoch')\n",
        "plt.legend(['train', 'val'], loc='upper left')\n",
        "plt.show()"
      ],
      "metadata": {
        "id": "bsOGkQy6YPwE"
      },
      "execution_count": null,
      "outputs": []
    },
    {
      "cell_type": "code",
      "source": [
        "cnn.save('MNIST_model.h5')"
      ],
      "metadata": {
        "id": "Gb8h8L47qQS5"
      },
      "execution_count": null,
      "outputs": []
    },
    {
      "cell_type": "code",
      "source": [
        "from google.colab import files\n",
        "\n",
        "files.download(\"MNIST_model.h5\")"
      ],
      "metadata": {
        "id": "mx-vY14cKpOH"
      },
      "execution_count": null,
      "outputs": []
    },
    {
      "cell_type": "code",
      "source": [
        "model = tf.keras.models.load_model('MNIST_model.h5')\n",
        "tf.saved_model.save(model, 'Conversion.pb')"
      ],
      "metadata": {
        "id": "WrBt9z-rFeJI"
      },
      "execution_count": null,
      "outputs": []
    },
    {
      "cell_type": "code",
      "source": [
        "!python -m venv openvino_env"
      ],
      "metadata": {
        "id": "8m6n3c1Q4Ogs"
      },
      "execution_count": null,
      "outputs": []
    },
    {
      "cell_type": "code",
      "source": [
        "pip install openvino-dev==2023.0.1"
      ],
      "metadata": {
        "id": "AJYuZadv4a_y"
      },
      "execution_count": null,
      "outputs": []
    },
    {
      "cell_type": "code",
      "source": [
        "from openvino.tools.mo import convert_model\n",
        "ov_model = convert_model('Conversion.pb')"
      ],
      "metadata": {
        "id": "ExhRAi_8qUkA"
      },
      "execution_count": null,
      "outputs": []
    }
  ]
}